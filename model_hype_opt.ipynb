{
 "cells": [
  {
   "cell_type": "markdown",
   "id": "e66f8e1e",
   "metadata": {},
   "source": [
    "<font size=3>This notebook presents a hyperparameter search method for finding optimal hyperparameters for my network trained on churn. The techniques I used are same as model_nas.\n",
    "The space has limited to:\n",
    " - Learning rate: 1e-5 - 1e-3\n",
    " - Dropout probability: 5e-2 - 0.15\n",
    "\n",
    "epochs, and batch_size are omitted as this is a PoC for hyperparameter with GA. The process takes time. For making better results, one can increase <b>MAX_GENERATIONS</b>, <b>POPULATION_SIZE</b>, and <b>epochs</b> size.\n",
    "\n",
    "I used selected optimizer, loss function, and activation functions in model_nas.\n",
    "</font>\n",
    "Found parameters increases accuracy to 83 by 6 epochs."
   ]
  },
  {
   "cell_type": "code",
   "execution_count": 1,
   "id": "c2a7a110",
   "metadata": {},
   "outputs": [],
   "source": [
    "from deap import base, creator, tools, algorithms\n",
    "\n",
    "import matplotlib.pyplot as plt\n",
    "import seaborn as sns\n",
    "\n",
    "import random\n",
    "import pandas\n",
    "import numpy\n",
    "\n",
    "import torch\n",
    "import torch.nn as nn\n",
    "\n",
    "from util import util, torch_model_arch, elitism\n"
   ]
  },
  {
   "cell_type": "markdown",
   "id": "b36e5efc",
   "metadata": {},
   "source": [
    "#### Preparation"
   ]
  },
  {
   "cell_type": "code",
   "execution_count": 2,
   "id": "e805d06b",
   "metadata": {},
   "outputs": [],
   "source": [
    "data = pandas.read_csv(util.dataset_filename)\n",
    "data.drop(['customerID'], axis=1, inplace=True)\n",
    "\n",
    "data[util.target_column] = data[util.target_column].replace(['Yes', 'No'], [1.0, 0.0])\n",
    "data = util.integrating_numerical_column(util.numerical_columns[0], data)\n",
    "data = util.standard_rescaling(util.numerical_columns, data)\n",
    "data = util.one_hot_encoding(util.categorized_columns, data)"
   ]
  },
  {
   "cell_type": "markdown",
   "id": "ba411058",
   "metadata": {},
   "source": [
    "#### Tensors' journey"
   ]
  },
  {
   "cell_type": "code",
   "execution_count": 3,
   "id": "186f32da",
   "metadata": {},
   "outputs": [],
   "source": [
    "batch_size = 5\n",
    "epochs = 6\n",
    "test_prob = 0.1\n",
    "train_loader, test_loader, input_size, \\\n",
    "    classifiers_size, test_size = util.data_splitter_tensor_binary(data, util.target_column, batch_size, test_prob)\n",
    "\n",
    "\n",
    "def feedback(lr, dropout_prob):\n",
    "    torch.manual_seed(util.seed)\n",
    "    model = torch_model_arch.net_search(input_size, classifiers_size, dropout_prob, [nn.Tanh, nn.ReLU])\n",
    "    model.to(util.device)\n",
    "    model_loss = nn.CrossEntropyLoss().to(util.device)\n",
    "    model_optimizer = torch.optim.RMSprop(model.parameters(), lr=lr)\n",
    "    for epoch in range(epochs):\n",
    "        for i, (inputs, labels) in enumerate(train_loader, 0):\n",
    "            outputs = model(inputs)\n",
    "            loss = model_loss(outputs, labels)\n",
    "            model_optimizer.zero_grad()\n",
    "            loss.backward()\n",
    "            model_optimizer.step()\n",
    "\n",
    "    model.eval()\n",
    "    y_test = []\n",
    "    y_pred = []\n",
    "    correct = 0\n",
    "    with torch.no_grad():\n",
    "        for (inputs, labels) in test_loader:\n",
    "            logits = model(inputs)\n",
    "            batch_pred = torch.argmax(logits, dim=1)\n",
    "            batch_labels = torch.argmax(labels, dim=1)\n",
    "            y_test.extend(batch_labels.cpu().tolist())\n",
    "            y_pred.extend(batch_pred.cpu().tolist())\n",
    "            correct += (batch_pred == batch_labels).sum().item()\n",
    "\n",
    "    return correct/test_size"
   ]
  },
  {
   "cell_type": "markdown",
   "id": "e78ad137",
   "metadata": {},
   "source": [
    "#### Search"
   ]
  },
  {
   "cell_type": "code",
   "execution_count": 4,
   "id": "584a443e",
   "metadata": {},
   "outputs": [
    {
     "name": "stdout",
     "output_type": "stream",
     "text": [
      "gen\tnevals\tmax    \tavg   \n",
      "0  \t30    \t0.82695\t0.8174\n",
      "1  \t23    \t0.82695\t0.81948\n",
      "2  \t24    \t0.82695\t0.820662\n",
      "3  \t23    \t0.82695\t0.821655\n",
      "4  \t22    \t0.828369\t0.8226  \n",
      "5  \t21    \t0.828369\t0.82227 \n",
      "6  \t21    \t0.828369\t0.822884\n",
      "7  \t24    \t0.828369\t0.823783\n",
      "8  \t20    \t0.828369\t0.823593\n",
      "9  \t17    \t0.828369\t0.825296\n",
      "10 \t23    \t0.828369\t0.823452\n",
      "11 \t23    \t0.828369\t0.825248\n",
      "12 \t21    \t0.828369\t0.824917\n",
      "13 \t22    \t0.828369\t0.824917\n",
      "14 \t20    \t0.829787\t0.824397\n",
      "15 \t20    \t0.829787\t0.825437\n",
      "16 \t22    \t0.829787\t0.824634\n",
      "17 \t25    \t0.829787\t0.823262\n",
      "18 \t22    \t0.829787\t0.823972\n",
      "19 \t24    \t0.829787\t0.824019\n",
      "20 \t22    \t0.829787\t0.82539 \n",
      "21 \t23    \t0.829787\t0.824775\n",
      "22 \t19    \t0.829787\t0.82539 \n",
      "23 \t21    \t0.829787\t0.825674\n",
      "24 \t22    \t0.829787\t0.825957\n",
      "25 \t23    \t0.829787\t0.826336\n",
      "26 \t23    \t0.831206\t0.825012\n",
      "27 \t20    \t0.831206\t0.826194\n",
      "28 \t23    \t0.831206\t0.826241\n",
      "29 \t18    \t0.831206\t0.826478\n",
      "30 \t18    \t0.831206\t0.827754\n",
      "- Best learning rate, and dropout: \n",
      "[3.8093424453229945e-05, 0.05195051965108121] 0.02599430653776722\n",
      "Accuracy = 0.8312056737588652\n"
     ]
    },
    {
     "data": {
      "image/png": "[encoded data removed]",
      "text/plain": [
       "<Figure size 432x288 with 1 Axes>"
      ]
     },
     "metadata": {},
     "output_type": "display_data"
    }
   ],
   "source": [
    "def fitness_func(vals):\n",
    "    return feedback(*vals),\n",
    "\n",
    "# Learing_rate, dropout\n",
    "BOUNDS_LOW =  [1e-5, 5e-2]\n",
    "BOUNDS_HIGH = [1e-3, 0.16]\n",
    "\n",
    "\n",
    "NUM_OF_PARAMS = len(BOUNDS_HIGH)\n",
    "\n",
    "POPULATION_SIZE = 30\n",
    "P_CROSSOVER = 0.7\n",
    "P_MUTATION = 0.5\n",
    "MAX_GENERATIONS = 30\n",
    "HALL_OF_FAME_SIZE = 3\n",
    "CROWDING_FACTOR = 10.0  # crowding factor for crossover and mutation\n",
    "\n",
    "toolbox = base.Toolbox()\n",
    "\n",
    "creator.create('fitness_max', base.Fitness, weights=(1.0,))\n",
    "\n",
    "creator.create('individual', list, fitness=creator.fitness_max)\n",
    "\n",
    "for i in range(NUM_OF_PARAMS):\n",
    "    toolbox.register('param_' + str(i),\n",
    "                     random.uniform,\n",
    "                     BOUNDS_LOW[i],\n",
    "                     BOUNDS_HIGH[i])\n",
    "\n",
    "attributes = ()\n",
    "for i in range(NUM_OF_PARAMS):\n",
    "    attributes = attributes + (toolbox.__getattribute__('param_' + str(i)),)\n",
    "\n",
    "toolbox.register('individual_creator',\n",
    "                 tools.initCycle,\n",
    "                 creator.individual,\n",
    "                 attributes,\n",
    "                 n=1)\n",
    "\n",
    "toolbox.register('population_creator', tools.initRepeat, list, toolbox.individual_creator)\n",
    "\n",
    "\n",
    "toolbox.register('evaluate', fitness_func)\n",
    "\n",
    "\n",
    "toolbox.register('select', tools.selTournament, tournsize=2)\n",
    "toolbox.register('mate',\n",
    "                 tools.cxSimulatedBinaryBounded,\n",
    "                 low=BOUNDS_LOW,\n",
    "                 up=BOUNDS_HIGH,\n",
    "                 eta=CROWDING_FACTOR)\n",
    "\n",
    "toolbox.register('mutate',\n",
    "                 tools.mutPolynomialBounded,\n",
    "                 low=BOUNDS_LOW,\n",
    "                 up=BOUNDS_HIGH,\n",
    "                 eta=CROWDING_FACTOR,\n",
    "                 indpb=1.0/NUM_OF_PARAMS)\n",
    "\n",
    "\n",
    "def main():\n",
    "    population = toolbox.population_creator(n=POPULATION_SIZE)\n",
    "\n",
    "    stats = tools.Statistics(lambda ind: ind.fitness.values)\n",
    "    stats.register('max', numpy.max)\n",
    "    stats.register('avg', numpy.mean)\n",
    "\n",
    "    hof = tools.HallOfFame(HALL_OF_FAME_SIZE)\n",
    "\n",
    "    population, logbook = elitism.eaSimpleWithElitism(\\\n",
    "        population, toolbox, cxpb=P_CROSSOVER, mutpb=P_MUTATION, ngen=MAX_GENERATIONS, stats=stats, halloffame=hof, verbose=True)\n",
    "\n",
    "    print('- Best learning rate, and dropout: ')\n",
    "    print(hof.items[0], sum(hof.items[0])/len(hof.items[0]))\n",
    "    print(f'Accuracy = {hof.items[0].fitness.values[0]}')\n",
    "\n",
    "    max_fit, mean_fit = logbook.select('max', 'avg')\n",
    "\n",
    "    sns.set_style('whitegrid')\n",
    "    plt.plot(max_fit, color='red')\n",
    "    plt.plot(mean_fit, color='green')\n",
    "    plt.xlabel('Generation')\n",
    "    plt.ylabel('Max / Average Fitness')\n",
    "    plt.title('Max and Average fitness over Generations')\n",
    "    plt.show()\n",
    "\n",
    "\n",
    "main()\n"
   ]
  },
  {
   "cell_type": "markdown",
   "id": "5bdb47fd",
   "metadata": {},
   "source": [
    "~0.83. My own choice was 1e-5 for lr and 0.15 for dropout_prob"
   ]
  },
  {
   "cell_type": "code",
   "execution_count": 5,
   "id": "70366102",
   "metadata": {},
   "outputs": [
    {
     "data": {
      "text/plain": [
       "0.8312056737588652"
      ]
     },
     "execution_count": 5,
     "metadata": {},
     "output_type": "execute_result"
    }
   ],
   "source": [
    "lr = 3.8093424453229945e-05\n",
    "dropout_prob = 0.05195051965108121\n",
    "feedback(lr, dropout_prob)"
   ]
  },
  {
   "cell_type": "code",
   "execution_count": null,
   "id": "c6befefc",
   "metadata": {},
   "outputs": [],
   "source": []
  }
 ],
 "metadata": {
  "kernelspec": {
   "display_name": "Python 3 (ipykernel)",
   "language": "python",
   "name": "python3"
  },
  "language_info": {
   "codemirror_mode": {
    "name": "ipython",
    "version": 3
   },
   "file_extension": ".py",
   "mimetype": "text/x-python",
   "name": "python",
   "nbconvert_exporter": "python",
   "pygments_lexer": "ipython3",
   "version": "3.10.6"
  }
 },
 "nbformat": 4,
 "nbformat_minor": 5
}
