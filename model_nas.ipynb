{
 "cells": [
  {
   "cell_type": "markdown",
   "id": "1c593575",
   "metadata": {},
   "source": [
    "<font size=3>This notebook presents a <i>neural architecture search (NAS)</i> method for finding optimal neural network architecture for churn dataset. I utilized a <i>genetic algorithm (GA)</i> to evolve the architecture of a Torch-based NN for a classification task. The GA searches the space of possible network architectures by mutating and recombining existing architectures, evaluating their performance on the test set, and selecting the best-performing architectures for the next generation. The fitness function is based on the validation accuracy of each network, and the genetic operators include mutation, crossover, and selection. I compared our NAS method with a baseline network and a manually designed network, and found that the NAS method outperformed in terms of accuracy about ~1%. The results demonstrate the effectiveness of the GA-based NAS method for automating the design of neural network architectures and achieving state-of-the-art performance on classification tasks.\n",
    "The space has limited to:\n",
    "\n",
    " - Three activation function: Sigmoid, Tanh, ReLU\n",
    " - Three optimizer algorithms: Adam, RMSprop, SGD\n",
    " - Two loss functions: Cross Entropy, Binary Cross Entropy\n",
    "\n",
    "I did not try to search the space of number of layers, and parameters as this is a PoC for NAS with GA. The process takes time. For making better results, one can increase <b>MAX_GENERATIONS</b>, <b>POPULATION_SIZE</b>, and <b>epochs</b> size.\n",
    "The techniques I used are as follows:\n",
    " - Elitism: Individuals in each generation might be removed or mutated. And this phenomenon might hurt the best   individuals. So we use Elitisim to prevent mutating and removing best individuals of each generation and we inject them directly to the next generation.\n",
    " - Tournament selection: A selection strategy where a subset of individuals is randomly chosen from the population(here 2), and the fittest individual is selected based on a fitness function.\n",
    " - Mate (SimulatedBinaryBounded): Simulated Binary Bounded crossover is a variant of cross over strategy that ensures the offspring's genetic information remains within a predefined range.\n",
    " - Mutation (PolynomialBounded): Mutation happens to create new individuals by changing the current inds. Polynomial Bounded mutation is a method that limits the magnitude of the changes and ensures the new genetic information remains within a predefined range.\n",
    "\n",
    "After finding the suitable elements, we use model_hype_opt to find learning rate and dropout. \n",
    "</font>"
   ]
  },
  {
   "cell_type": "code",
   "execution_count": 1,
   "id": "6acf4ffd",
   "metadata": {},
   "outputs": [],
   "source": [
    "from deap import base, creator, tools, algorithms\n",
    "\n",
    "import matplotlib.pyplot as plt\n",
    "import seaborn as sns\n",
    "\n",
    "import random\n",
    "import pandas\n",
    "import numpy\n",
    "\n",
    "import torch\n",
    "import torch.nn as nn\n",
    "\n",
    "from util import util, torch_model_arch, elitism"
   ]
  },
  {
   "cell_type": "markdown",
   "id": "78d77b0d",
   "metadata": {},
   "source": [
    "#### Preparation"
   ]
  },
  {
   "cell_type": "code",
   "execution_count": 2,
   "id": "046c8ff5",
   "metadata": {},
   "outputs": [],
   "source": [
    "data = pandas.read_csv(util.dataset_filename)\n",
    "data.drop(['customerID'], axis=1, inplace=True)\n",
    "\n",
    "data[util.target_column] = data[util.target_column].replace(['Yes', 'No'], [1.0, 0.0])\n",
    "data = util.integrating_numerical_column(util.numerical_columns[0], data)\n",
    "data = util.standard_rescaling(util.numerical_columns, data)\n",
    "data = util.one_hot_encoding(util.categorized_columns, data)"
   ]
  },
  {
   "cell_type": "markdown",
   "id": "1579f9f1",
   "metadata": {},
   "source": [
    "#### Tensors' journey"
   ]
  },
  {
   "cell_type": "code",
   "execution_count": 23,
   "id": "60837c44",
   "metadata": {},
   "outputs": [],
   "source": [
    "dropout_prob = 0.15\n",
    "batch_size = 5\n",
    "epochs = 6\n",
    "test_prob = 0.1\n",
    "train_loader, test_loader, input_size, \\\n",
    "    classifiers_size, test_size = util.data_splitter_tensor_binary(data, util.target_column, batch_size, test_prob)\n",
    "\n",
    "# Defining search space\n",
    "optimizer_space = [torch.optim.RMSprop, torch.optim.Adam, torch.optim.SGD]\n",
    "loss_func_space = [nn.BCEWithLogitsLoss, nn.CrossEntropyLoss]\n",
    "activation_space = [nn.Sigmoid, nn.ReLU, nn.Tanh]\n",
    "\n",
    "def feedback(optimizer, loss_func, act_l1, act_l2):\n",
    "    torch.manual_seed(util.seed)\n",
    "    model = torch_model_arch.net_search(input_size, classifiers_size, dropout_prob, [activation_space[act_l1], activation_space[act_l2]])\n",
    "    model.to(util.device)\n",
    "    model_loss = loss_func_space[loss_func]().to(util.device)\n",
    "    model_optimizer = optimizer_space[optimizer](model.parameters(), lr=1e-5)\n",
    "    # Training loop    \n",
    "    for epoch in range(epochs):\n",
    "        for i, (inputs, labels) in enumerate(train_loader, 0):\n",
    "            outputs = model(inputs)\n",
    "            loss = model_loss(outputs, labels)\n",
    "            model_optimizer.zero_grad()\n",
    "            loss.backward()\n",
    "            model_optimizer.step()\n",
    "    # Test    \n",
    "    model.eval()\n",
    "    y_test = []\n",
    "    y_pred = []\n",
    "    correct = 0\n",
    "    with torch.no_grad():\n",
    "        for (inputs, labels) in test_loader:\n",
    "            logits = model(inputs)\n",
    "            batch_pred = torch.argmax(logits, dim=1)\n",
    "            batch_labels = torch.argmax(labels, dim=1)\n",
    "            y_test.extend(batch_labels.cpu().tolist())\n",
    "            y_pred.extend(batch_pred.cpu().tolist())\n",
    "            correct += (batch_pred == batch_labels).sum().item()\n",
    "\n",
    "    return correct/test_size"
   ]
  },
  {
   "cell_type": "markdown",
   "id": "deee5c3f",
   "metadata": {},
   "source": [
    "#### Search"
   ]
  },
  {
   "cell_type": "code",
   "execution_count": 25,
   "id": "cbe2402e",
   "metadata": {},
   "outputs": [
    {
     "name": "stdout",
     "output_type": "stream",
     "text": [
      "gen\tnevals\tmax     \tavg     \n",
      "0  \t20    \t0.821277\t0.787943\n",
      "1  \t15    \t0.821277\t0.809574\n",
      "2  \t16    \t0.821277\t0.81844 \n",
      "3  \t17    \t0.821277\t0.820142\n",
      "4  \t17    \t0.821277\t0.820922\n",
      "5  \t14    \t0.821277\t0.821277\n",
      "6  \t16    \t0.821277\t0.821135\n",
      "7  \t15    \t0.821277\t0.821135\n",
      "8  \t17    \t0.821277\t0.821277\n",
      "9  \t16    \t0.821277\t0.821277\n",
      "10 \t17    \t0.821277\t0.821277\n",
      "11 \t16    \t0.821277\t0.821277\n",
      "12 \t16    \t0.821277\t0.821277\n",
      "13 \t16    \t0.821277\t0.821135\n",
      "14 \t16    \t0.821277\t0.821277\n",
      "15 \t16    \t0.821277\t0.821277\n",
      "16 \t14    \t0.821277\t0.820851\n",
      "17 \t16    \t0.821277\t0.821277\n",
      "18 \t17    \t0.821277\t0.821277\n",
      "19 \t16    \t0.821277\t0.821277\n",
      "20 \t14    \t0.821277\t0.821135\n",
      "21 \t16    \t0.821277\t0.821277\n",
      "Best elements are: \n",
      "params =  [0, 1, 1.7695264336521022, 1] 0.9423816084130255\n",
      "Accuracy = 0.8212765957446808\n"
     ]
    },
    {
     "data": {
      "image/png": "[encoded data removed]",
      "text/plain": [
       "<Figure size 432x288 with 1 Axes>"
      ]
     },
     "metadata": {},
     "output_type": "display_data"
    }
   ],
   "source": [
    "def fitness_func(vals):\n",
    "    params = [round(x) for x in vals]\n",
    "    return feedback(*params),\n",
    "\n",
    "# Space encoding: optim, loss, act_f(l1), act_f(l2)\n",
    "BOUNDS_LOW =  [0, 0, 0, 0]\n",
    "BOUNDS_HIGH = [2, 1, 2, 2]\n",
    "\n",
    "\n",
    "NUM_OF_PARAMS = len(BOUNDS_HIGH)\n",
    "\n",
    "\n",
    "POPULATION_SIZE = 20\n",
    "P_CROSSOVER = 0.9      # Prob for crossover\n",
    "P_MUTATION = 0.5       # Prob for mutation\n",
    "MAX_GENERATIONS = 21\n",
    "HALL_OF_FAME_SIZE = 3\n",
    "CROWDING_FACTOR = 10.0 # Crowding factor for crossover and mutation\n",
    "\n",
    "toolbox = base.Toolbox()\n",
    "\n",
    "# Maximizing fitness function\n",
    "creator.create('fitness_max', base.Fitness, weights=(1.0,))\n",
    "\n",
    "# Each individual is a list of params\n",
    "creator.create('individual', list, fitness=creator.fitness_max)\n",
    "\n",
    "\n",
    "for i in range(NUM_OF_PARAMS):\n",
    "    toolbox.register('param_' + str(i),\n",
    "                     random.randint,\n",
    "                     BOUNDS_LOW[i],\n",
    "                     BOUNDS_HIGH[i])\n",
    "attributes = ()\n",
    "for i in range(NUM_OF_PARAMS):\n",
    "    attributes = attributes + (toolbox.__getattribute__('param_' + str(i)),)\n",
    "\n",
    "# Create the individual operator to fill up an Individual instance\n",
    "toolbox.register('individual_creator',\n",
    "                 tools.initCycle,\n",
    "                 creator.individual,\n",
    "                 attributes,\n",
    "                 n=1)\n",
    "\n",
    "# Create the population operator to generate a list of individuals\n",
    "toolbox.register('population_creator', tools.initRepeat, list, toolbox.individual_creator)\n",
    "\n",
    "toolbox.register('evaluate', fitness_func)\n",
    "\n",
    "\n",
    "toolbox.register('select', tools.selTournament, tournsize=2)\n",
    "toolbox.register('mate',\n",
    "                 tools.cxSimulatedBinaryBounded,\n",
    "                 low=BOUNDS_LOW,\n",
    "                 up=BOUNDS_HIGH,\n",
    "                 eta=CROWDING_FACTOR)\n",
    "\n",
    "toolbox.register('mutate',\n",
    "                 tools.mutPolynomialBounded,\n",
    "                 low=BOUNDS_LOW,\n",
    "                 up=BOUNDS_HIGH,\n",
    "                 eta=CROWDING_FACTOR,\n",
    "                 indpb=1.0/NUM_OF_PARAMS)\n",
    "\n",
    "\n",
    "def search():\n",
    "    population = toolbox.population_creator(n=POPULATION_SIZE)\n",
    "    stats = tools.Statistics(lambda ind: ind.fitness.values)\n",
    "    stats.register('max', numpy.max)\n",
    "    stats.register('avg', numpy.mean)\n",
    "\n",
    "    hof = tools.HallOfFame(HALL_OF_FAME_SIZE)\n",
    "\n",
    "    population, logbook = elitism.eaSimpleWithElitism(\\\n",
    "        population, toolbox, cxpb=P_CROSSOVER, mutpb=P_MUTATION, ngen=MAX_GENERATIONS, stats=stats, halloffame=hof, verbose=True)\n",
    "\n",
    "    print('Best elements are: ')\n",
    "    print('params = ', hof.items[0], sum(hof.items[0])/len(hof.items[0]))\n",
    "    print(f'Accuracy = {hof.items[0].fitness.values[0]}')\n",
    "\n",
    "    max_fit, mean_fit = logbook.select('max', 'avg')\n",
    "\n",
    "    sns.set_style('whitegrid')\n",
    "    plt.plot(max_fit, color='red')\n",
    "    plt.plot(mean_fit, color='green')\n",
    "    plt.xlabel('Generation')\n",
    "    plt.ylabel('Max / Average Fitness')\n",
    "    plt.title('Max and Average fitness over Generations')\n",
    "    plt.show()\n",
    "\n",
    "\n",
    "search()"
   ]
  },
  {
   "cell_type": "code",
   "execution_count": 26,
   "id": "38345561",
   "metadata": {},
   "outputs": [
    {
     "name": "stdout",
     "output_type": "stream",
     "text": [
      "Selected optimizer: RMSprop\n",
      "Selected loss function: CrossEntropyLoss\n",
      "Selected activation function(layer1): Tanh\n",
      "Selected activation function(layer2): ReLU\n"
     ]
    }
   ],
   "source": [
    "params = [0, 1, 1.7695264336521022, 1]\n",
    "params = [round(x) for x in params]\n",
    "\n",
    "print('Selected optimizer:', optimizer_space[params[0]].__name__)\n",
    "print('Selected loss function:', loss_func_space[params[1]].__name__)\n",
    "print('Selected activation function(layer1):', activation_space[params[2]].__name__)\n",
    "print('Selected activation function(layer2):', activation_space[params[3]].__name__)"
   ]
  },
  {
   "cell_type": "code",
   "execution_count": 27,
   "id": "f9148b93",
   "metadata": {},
   "outputs": [
    {
     "data": {
      "text/plain": [
       "0.8212765957446808"
      ]
     },
     "execution_count": 27,
     "metadata": {},
     "output_type": "execute_result"
    }
   ],
   "source": [
    "feedback(*params)"
   ]
  },
  {
   "cell_type": "markdown",
   "id": "71cfb841",
   "metadata": {},
   "source": [
    "Almost near what I've chosen(RMSprop, CE, Sigmoid, ReLU) but with one difference: Using Tanh instead of Sigmoid."
   ]
  },
  {
   "cell_type": "code",
   "execution_count": null,
   "id": "4955b2a1",
   "metadata": {},
   "outputs": [],
   "source": []
  }
 ],
 "metadata": {
  "kernelspec": {
   "display_name": "Python 3 (ipykernel)",
   "language": "python",
   "name": "python3"
  },
  "language_info": {
   "codemirror_mode": {
    "name": "ipython",
    "version": 3
   },
   "file_extension": ".py",
   "mimetype": "text/x-python",
   "name": "python",
   "nbconvert_exporter": "python",
   "pygments_lexer": "ipython3",
   "version": "3.10.6"
  }
 },
 "nbformat": 4,
 "nbformat_minor": 5
}
